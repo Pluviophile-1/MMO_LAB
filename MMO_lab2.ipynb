{
  "nbformat": 4,
  "nbformat_minor": 0,
  "metadata": {
    "colab": {
      "provenance": [],
      "authorship_tag": "ABX9TyN8/j2F4xIwVBo0QjHN2YUf",
      "include_colab_link": true
    },
    "kernelspec": {
      "name": "python3",
      "display_name": "Python 3"
    },
    "language_info": {
      "name": "python"
    }
  },
  "cells": [
    {
      "cell_type": "markdown",
      "metadata": {
        "id": "view-in-github",
        "colab_type": "text"
      },
      "source": [
        "<a href=\"https://colab.research.google.com/github/Pluviophile-1/MMO_LAB/blob/main/MMO_lab2.ipynb\" target=\"_parent\"><img src=\"https://colab.research.google.com/assets/colab-badge.svg\" alt=\"Open In Colab\"/></a>"
      ]
    },
    {
      "cell_type": "markdown",
      "source": [
        "\n",
        "\n",
        "# 1.Импорт библиотеки и загрузка набора данных\n",
        "\n"
      ],
      "metadata": {
        "id": "MYLaAJZXct2G"
      }
    },
    {
      "cell_type": "markdown",
      "source": [
        "Adult Income Набор данных: В этом наборе данных содержится информация о возрасте, типе работы, образовании, поле, этнической принадлежности, продолжительности рабочего времени и соответствующем уровне дохода (>$50K или <=$50K).В данном случае тип работы, образование, пол и раса - категориальные признаки, а возраст и количество отработанных часов - числовые признаки, и в наборе данных есть некоторые пропущенные значения.\n",
        "\n"
      ],
      "metadata": {
        "id": "AVLhK5kVdNH0"
      }
    },
    {
      "cell_type": "code",
      "execution_count": 12,
      "metadata": {
        "colab": {
          "base_uri": "https://localhost:8080/"
        },
        "id": "HJAwjEqUcgMI",
        "outputId": "1c302092-3092-41de-d22e-fa1547775820"
      },
      "outputs": [
        {
          "output_type": "stream",
          "name": "stdout",
          "text": [
            "Requirement already satisfied: pandas in /usr/local/lib/python3.11/dist-packages (2.2.2)\n",
            "Requirement already satisfied: scikit-learn in /usr/local/lib/python3.11/dist-packages (1.6.1)\n",
            "Requirement already satisfied: numpy>=1.23.2 in /usr/local/lib/python3.11/dist-packages (from pandas) (2.0.2)\n",
            "Requirement already satisfied: python-dateutil>=2.8.2 in /usr/local/lib/python3.11/dist-packages (from pandas) (2.8.2)\n",
            "Requirement already satisfied: pytz>=2020.1 in /usr/local/lib/python3.11/dist-packages (from pandas) (2025.1)\n",
            "Requirement already satisfied: tzdata>=2022.7 in /usr/local/lib/python3.11/dist-packages (from pandas) (2025.1)\n",
            "Requirement already satisfied: scipy>=1.6.0 in /usr/local/lib/python3.11/dist-packages (from scikit-learn) (1.14.1)\n",
            "Requirement already satisfied: joblib>=1.2.0 in /usr/local/lib/python3.11/dist-packages (from scikit-learn) (1.4.2)\n",
            "Requirement already satisfied: threadpoolctl>=3.1.0 in /usr/local/lib/python3.11/dist-packages (from scikit-learn) (3.6.0)\n",
            "Requirement already satisfied: six>=1.5 in /usr/local/lib/python3.11/dist-packages (from python-dateutil>=2.8.2->pandas) (1.17.0)\n"
          ]
        }
      ],
      "source": [
        "# 安装必要的库\n",
        "!pip install pandas scikit-learn\n",
        "\n",
        "import pandas as pd\n",
        "from sklearn.preprocessing import MinMaxScaler\n",
        "\n",
        "# 加载数据集\n",
        "data = pd.read_csv('adult.csv')"
      ]
    },
    {
      "cell_type": "markdown",
      "source": [
        "# 2.Просмотр основной информации о наборе данных"
      ],
      "metadata": {
        "id": "46IdQau0eJNt"
      }
    },
    {
      "cell_type": "markdown",
      "source": [
        "Узнайте основную информацию о наборе данных, включая форму, первые несколько строк данных, описательную статистическую информацию и тип данных в каждом столбце."
      ],
      "metadata": {
        "id": "ipdL2JDxeNKA"
      }
    },
    {
      "cell_type": "code",
      "source": [
        "# 查看数据集基本信息\n",
        "print(\"数据集基本信息：\")\n",
        "print(\"数据集形状：\", data.shape)\n",
        "print(\"数据集前5行：\")\n",
        "print(data.head())\n",
        "print(\"数据集描述性统计信息：\")\n",
        "print(data.describe())\n",
        "print(\"数据集的列名：\")\n",
        "print(data.columns)"
      ],
      "metadata": {
        "colab": {
          "base_uri": "https://localhost:8080/"
        },
        "id": "nqCEGZjWePVm",
        "outputId": "427d9f04-20e2-4893-c815-4fa04a66f606"
      },
      "execution_count": 13,
      "outputs": [
        {
          "output_type": "stream",
          "name": "stdout",
          "text": [
            "数据集基本信息：\n",
            "数据集形状： (28855, 15)\n",
            "数据集前5行：\n",
            "   age  workclass  fnlwgt     education  educational-num      marital-status  \\\n",
            "0   25    Private  226802          11th                7       Never-married   \n",
            "1   38    Private   89814       HS-grad                9  Married-civ-spouse   \n",
            "2   28  Local-gov  336951    Assoc-acdm               12  Married-civ-spouse   \n",
            "3   44    Private  160323  Some-college               10  Married-civ-spouse   \n",
            "4   18          ?  103497  Some-college               10       Never-married   \n",
            "\n",
            "          occupation relationship   race  gender  capital-gain  capital-loss  \\\n",
            "0  Machine-op-inspct    Own-child  Black    Male           0.0           0.0   \n",
            "1    Farming-fishing      Husband  White    Male           0.0           0.0   \n",
            "2    Protective-serv      Husband  White    Male           0.0           0.0   \n",
            "3  Machine-op-inspct      Husband  Black    Male        7688.0           0.0   \n",
            "4                  ?    Own-child  White  Female           0.0           0.0   \n",
            "\n",
            "   hours-per-week native-country income  \n",
            "0            40.0  United-States  <=50K  \n",
            "1            50.0  United-States  <=50K  \n",
            "2            40.0  United-States   >50K  \n",
            "3            40.0  United-States   >50K  \n",
            "4            30.0  United-States  <=50K  \n",
            "数据集描述性统计信息：\n",
            "                age        fnlwgt  educational-num  capital-gain  \\\n",
            "count  28855.000000  2.885500e+04     28855.000000  28854.000000   \n",
            "mean      38.634344  1.897565e+05        10.073575   1070.827892   \n",
            "std       13.742880  1.054501e+05         2.559413   7463.025745   \n",
            "min       17.000000  1.349200e+04         1.000000      0.000000   \n",
            "25%       28.000000  1.175270e+05         9.000000      0.000000   \n",
            "50%       37.000000  1.781090e+05        10.000000      0.000000   \n",
            "75%       48.000000  2.384100e+05        12.000000      0.000000   \n",
            "max       90.000000  1.490400e+06        16.000000  99999.000000   \n",
            "\n",
            "       capital-loss  hours-per-week  \n",
            "count  28854.000000    28854.000000  \n",
            "mean      88.328273       40.442608  \n",
            "std      403.260391       12.384877  \n",
            "min        0.000000        1.000000  \n",
            "25%        0.000000       40.000000  \n",
            "50%        0.000000       40.000000  \n",
            "75%        0.000000       45.000000  \n",
            "max     4356.000000       99.000000  \n",
            "数据集的列名：\n",
            "Index(['age', 'workclass', 'fnlwgt', 'education', 'educational-num',\n",
            "       'marital-status', 'occupation', 'relationship', 'race', 'gender',\n",
            "       'capital-gain', 'capital-loss', 'hours-per-week', 'native-country',\n",
            "       'income'],\n",
            "      dtype='object')\n"
          ]
        }
      ]
    },
    {
      "cell_type": "markdown",
      "source": [
        "# 3.Устранение пробелов в данных"
      ],
      "metadata": {
        "id": "ZwmojV_1e0A2"
      }
    },
    {
      "cell_type": "code",
      "source": [
        "print(\"缺失值情况：\")\n",
        "print(data.isnull().sum())\n",
        "\n",
        "# 处理缺失值\n",
        "for column in data.columns:\n",
        "    if data[column].dtype == 'object':  # 分类特征\n",
        "        # 使用众数填充缺失值\n",
        "        mode_value = data[column].mode()[0]\n",
        "        data[column] = data[column].fillna(mode_value)\n",
        "    else:  # 数值特征\n",
        "        # 使用中位数填充缺失值\n",
        "        median_value = data[column].median()\n",
        "        data[column] = data[column].fillna(median_value)\n",
        "\n",
        "print(\"处理后的缺失值情况：\")\n",
        "print(data.isnull().sum())"
      ],
      "metadata": {
        "colab": {
          "base_uri": "https://localhost:8080/"
        },
        "id": "C21LzRmeezu3",
        "outputId": "f46149d4-c451-4e55-9182-222aa8969f00"
      },
      "execution_count": 14,
      "outputs": [
        {
          "output_type": "stream",
          "name": "stdout",
          "text": [
            "缺失值情况：\n",
            "age                0\n",
            "workclass          0\n",
            "fnlwgt             0\n",
            "education          0\n",
            "educational-num    0\n",
            "marital-status     0\n",
            "occupation         1\n",
            "relationship       1\n",
            "race               1\n",
            "gender             1\n",
            "capital-gain       1\n",
            "capital-loss       1\n",
            "hours-per-week     1\n",
            "native-country     1\n",
            "income             1\n",
            "dtype: int64\n",
            "处理后的缺失值情况：\n",
            "age                0\n",
            "workclass          0\n",
            "fnlwgt             0\n",
            "education          0\n",
            "educational-num    0\n",
            "marital-status     0\n",
            "occupation         0\n",
            "relationship       0\n",
            "race               0\n",
            "gender             0\n",
            "capital-gain       0\n",
            "capital-loss       0\n",
            "hours-per-week     0\n",
            "native-country     0\n",
            "income             0\n",
            "dtype: int64\n"
          ]
        }
      ]
    },
    {
      "cell_type": "markdown",
      "source": [
        "# 4.Просмотр значений категориальных признаков в первом измерении, кодирование категориальных признаков"
      ],
      "metadata": {
        "id": "HLZS_7cyfxJb"
      }
    },
    {
      "cell_type": "code",
      "source": [
        "print(\"分类特征的唯一值：\")\n",
        "categorical_features = ['workclass', 'education', 'marital-status', 'occupation', 'relationship', 'race', 'sex', 'native-country']\n",
        "for feature in categorical_features:\n",
        "    if feature in data.columns:\n",
        "        print(feature, \":\", data[feature].unique())\n",
        "    else:\n",
        "        print(f\"列 '{feature}' 不存在于数据集中\")"
      ],
      "metadata": {
        "colab": {
          "base_uri": "https://localhost:8080/"
        },
        "id": "PSrAf_K9f3Ea",
        "outputId": "c38dce80-83c5-4ce0-cee5-2cbac8d04f93"
      },
      "execution_count": 16,
      "outputs": [
        {
          "output_type": "stream",
          "name": "stdout",
          "text": [
            "分类特征的唯一值：\n",
            "workclass : ['Private' 'Local-gov' '?' 'Self-emp-not-inc' 'Federal-gov' 'State-gov'\n",
            " 'Self-emp-inc' 'Without-pay' 'Never-worked']\n",
            "education : ['11th' 'HS-grad' 'Assoc-acdm' 'Some-college' '10th' 'Prof-school'\n",
            " '7th-8th' 'Bachelors' 'Masters' 'Doctorate' '5th-6th' 'Assoc-voc' '9th'\n",
            " '12th' '1st-4th' 'Preschool']\n",
            "marital-status : ['Never-married' 'Married-civ-spouse' 'Widowed' 'Divorced' 'Separated'\n",
            " 'Married-spouse-absent' 'Married-AF-spouse' 'Ma']\n",
            "occupation : ['Machine-op-inspct' 'Farming-fishing' 'Protective-serv' '?'\n",
            " 'Other-service' 'Prof-specialty' 'Craft-repair' 'Adm-clerical'\n",
            " 'Exec-managerial' 'Tech-support' 'Sales' 'Priv-house-serv'\n",
            " 'Transport-moving' 'Handlers-cleaners' 'Armed-Forces']\n",
            "relationship : ['Own-child' 'Husband' 'Not-in-family' 'Unmarried' 'Wife' 'Other-relative']\n",
            "race : ['Black' 'White' 'Asian-Pac-Islander' 'Other' 'Amer-Indian-Eskimo']\n",
            "列 'sex' 不存在于数据集中\n",
            "native-country : ['United-States' '?' 'Peru' 'Guatemala' 'Mexico' 'Dominican-Republic'\n",
            " 'Ireland' 'Germany' 'Philippines' 'Thailand' 'Haiti' 'El-Salvador'\n",
            " 'Puerto-Rico' 'Vietnam' 'South' 'Columbia' 'Japan' 'India' 'Cambodia'\n",
            " 'Poland' 'Laos' 'England' 'Cuba' 'Taiwan' 'Italy' 'Canada' 'Portugal'\n",
            " 'China' 'Nicaragua' 'Honduras' 'Iran' 'Scotland' 'Jamaica' 'Ecuador'\n",
            " 'Yugoslavia' 'Hungary' 'Hong' 'Greece' 'Trinadad&Tobago'\n",
            " 'Outlying-US(Guam-USVI-etc)' 'France']\n"
          ]
        }
      ]
    },
    {
      "cell_type": "code",
      "source": [
        "# 确保分类特征列存在于数据集中\n",
        "categorical_features = [feature for feature in categorical_features if feature in data.columns]\n",
        "data = pd.get_dummies(data, columns=categorical_features)"
      ],
      "metadata": {
        "id": "EXbPecK9i-Vc"
      },
      "execution_count": 17,
      "outputs": []
    },
    {
      "cell_type": "code",
      "source": [
        "#"
      ],
      "metadata": {
        "id": "9se1kHJ-gRaj"
      },
      "execution_count": null,
      "outputs": []
    },
    {
      "cell_type": "markdown",
      "source": [
        "# 5.Нормализация числовых характеристик"
      ],
      "metadata": {
        "id": "sF60tqiBjEZG"
      }
    },
    {
      "cell_type": "code",
      "source": [
        "numerical_features = ['age', 'fnlwgt', 'education-num', 'capital-gain', 'capital-loss', 'hours-per-week']\n",
        "# 确保数值特征列存在于数据集中\n",
        "numerical_features = [feature for feature in numerical_features if feature in data.columns]\n",
        "scaler = MinMaxScaler()\n",
        "data[numerical_features] = scaler.fit_transform(data[numerical_features])"
      ],
      "metadata": {
        "id": "mZOMgcrsjLUb"
      },
      "execution_count": 18,
      "outputs": []
    },
    {
      "cell_type": "markdown",
      "source": [
        "# 6.Просмотр основной информации об обработанном наборе данных"
      ],
      "metadata": {
        "id": "MagsR6NfjV1n"
      }
    },
    {
      "cell_type": "code",
      "source": [
        "print(\"处理后的数据集基本信息：\")\n",
        "print(\"数据集形状：\", data.shape)\n",
        "print(\"数据集前5行：\")\n",
        "print(data.head())\n",
        "print(\"数据集描述性统计信息：\")\n",
        "print(data.describe())"
      ],
      "metadata": {
        "colab": {
          "base_uri": "https://localhost:8080/"
        },
        "id": "9ALZitcZjYrY",
        "outputId": "8fe6c3d1-464a-4aa9-9f61-769f73fb3220"
      },
      "execution_count": 19,
      "outputs": [
        {
          "output_type": "stream",
          "name": "stdout",
          "text": [
            "处理后的数据集基本信息：\n",
            "数据集形状： (28855, 108)\n",
            "数据集前5行：\n",
            "        age    fnlwgt  educational-num  gender  capital-gain  capital-loss  \\\n",
            "0  0.109589  0.144430                7    Male      0.000000           0.0   \n",
            "1  0.287671  0.051677                9    Male      0.000000           0.0   \n",
            "2  0.150685  0.219011               12    Male      0.000000           0.0   \n",
            "3  0.369863  0.099418               10    Male      0.076881           0.0   \n",
            "4  0.013699  0.060942               10  Female      0.000000           0.0   \n",
            "\n",
            "   hours-per-week income  workclass_?  workclass_Federal-gov  ...  \\\n",
            "0        0.397959  <=50K        False                  False  ...   \n",
            "1        0.500000  <=50K        False                  False  ...   \n",
            "2        0.397959   >50K        False                  False  ...   \n",
            "3        0.397959   >50K        False                  False  ...   \n",
            "4        0.295918  <=50K         True                  False  ...   \n",
            "\n",
            "   native-country_Portugal  native-country_Puerto-Rico  \\\n",
            "0                    False                       False   \n",
            "1                    False                       False   \n",
            "2                    False                       False   \n",
            "3                    False                       False   \n",
            "4                    False                       False   \n",
            "\n",
            "   native-country_Scotland  native-country_South  native-country_Taiwan  \\\n",
            "0                    False                 False                  False   \n",
            "1                    False                 False                  False   \n",
            "2                    False                 False                  False   \n",
            "3                    False                 False                  False   \n",
            "4                    False                 False                  False   \n",
            "\n",
            "   native-country_Thailand  native-country_Trinadad&Tobago  \\\n",
            "0                    False                           False   \n",
            "1                    False                           False   \n",
            "2                    False                           False   \n",
            "3                    False                           False   \n",
            "4                    False                           False   \n",
            "\n",
            "   native-country_United-States  native-country_Vietnam  \\\n",
            "0                          True                   False   \n",
            "1                          True                   False   \n",
            "2                          True                   False   \n",
            "3                          True                   False   \n",
            "4                          True                   False   \n",
            "\n",
            "   native-country_Yugoslavia  \n",
            "0                      False  \n",
            "1                      False  \n",
            "2                      False  \n",
            "3                      False  \n",
            "4                      False  \n",
            "\n",
            "[5 rows x 108 columns]\n",
            "数据集描述性统计信息：\n",
            "                age        fnlwgt  educational-num  capital-gain  \\\n",
            "count  28855.000000  28855.000000     28855.000000  28855.000000   \n",
            "mean       0.296361      0.119347        10.073575      0.010708   \n",
            "std        0.188259      0.071399         2.559413      0.074630   \n",
            "min        0.000000      0.000000         1.000000      0.000000   \n",
            "25%        0.150685      0.070441         9.000000      0.000000   \n",
            "50%        0.273973      0.111461        10.000000      0.000000   \n",
            "75%        0.424658      0.152290        12.000000      0.000000   \n",
            "max        1.000000      1.000000        16.000000      1.000000   \n",
            "\n",
            "       capital-loss  hours-per-week  \n",
            "count  28855.000000    28855.000000  \n",
            "mean       0.020277        0.402475  \n",
            "std        0.092574        0.126374  \n",
            "min        0.000000        0.000000  \n",
            "25%        0.000000        0.397959  \n",
            "50%        0.000000        0.397959  \n",
            "75%        0.000000        0.448980  \n",
            "max        1.000000        1.000000  \n"
          ]
        }
      ]
    }
  ]
}
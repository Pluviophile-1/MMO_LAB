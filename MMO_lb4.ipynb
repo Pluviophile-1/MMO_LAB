{
  "nbformat": 4,
  "nbformat_minor": 0,
  "metadata": {
    "colab": {
      "provenance": [],
      "authorship_tag": "ABX9TyMwQyYSPwjTgaets3fRpEXP",
      "include_colab_link": true
    },
    "kernelspec": {
      "name": "python3",
      "display_name": "Python 3"
    },
    "language_info": {
      "name": "python"
    }
  },
  "cells": [
    {
      "cell_type": "markdown",
      "metadata": {
        "id": "view-in-github",
        "colab_type": "text"
      },
      "source": [
        "<a href=\"https://colab.research.google.com/github/Pluviophile-1/MMO_LAB/blob/main/MMO_lb4.ipynb\" target=\"_parent\"><img src=\"https://colab.research.google.com/assets/colab-badge.svg\" alt=\"Open In Colab\"/></a>"
      ]
    },
    {
      "cell_type": "code",
      "source": [
        "!pip install gym matplotlib numpy"
      ],
      "metadata": {
        "colab": {
          "base_uri": "https://localhost:8080/"
        },
        "id": "MZEn12AouLlg",
        "outputId": "cf76241e-1d85-46c4-cb86-b311d2305e2f"
      },
      "execution_count": 36,
      "outputs": [
        {
          "output_type": "stream",
          "name": "stdout",
          "text": [
            "Requirement already satisfied: gym in /usr/local/lib/python3.11/dist-packages (0.25.2)\n",
            "Requirement already satisfied: matplotlib in /usr/local/lib/python3.11/dist-packages (3.10.0)\n",
            "Requirement already satisfied: numpy in /usr/local/lib/python3.11/dist-packages (2.2.6)\n",
            "Requirement already satisfied: cloudpickle>=1.2.0 in /usr/local/lib/python3.11/dist-packages (from gym) (3.1.1)\n",
            "Requirement already satisfied: gym-notices>=0.0.4 in /usr/local/lib/python3.11/dist-packages (from gym) (0.0.8)\n",
            "Requirement already satisfied: contourpy>=1.0.1 in /usr/local/lib/python3.11/dist-packages (from matplotlib) (1.3.2)\n",
            "Requirement already satisfied: cycler>=0.10 in /usr/local/lib/python3.11/dist-packages (from matplotlib) (0.12.1)\n",
            "Requirement already satisfied: fonttools>=4.22.0 in /usr/local/lib/python3.11/dist-packages (from matplotlib) (4.58.0)\n",
            "Requirement already satisfied: kiwisolver>=1.3.1 in /usr/local/lib/python3.11/dist-packages (from matplotlib) (1.4.8)\n",
            "Requirement already satisfied: packaging>=20.0 in /usr/local/lib/python3.11/dist-packages (from matplotlib) (24.2)\n",
            "Requirement already satisfied: pillow>=8 in /usr/local/lib/python3.11/dist-packages (from matplotlib) (11.2.1)\n",
            "Requirement already satisfied: pyparsing>=2.3.1 in /usr/local/lib/python3.11/dist-packages (from matplotlib) (3.2.3)\n",
            "Requirement already satisfied: python-dateutil>=2.7 in /usr/local/lib/python3.11/dist-packages (from matplotlib) (2.9.0.post0)\n",
            "Requirement already satisfied: six>=1.5 in /usr/local/lib/python3.11/dist-packages (from python-dateutil>=2.7->matplotlib) (1.17.0)\n"
          ]
        }
      ]
    },
    {
      "cell_type": "code",
      "source": [
        "import gym\n",
        "import numpy as np\n",
        "\n",
        "# 创建环境\n",
        "env = gym.make('Taxi-v3').env\n",
        "\n",
        "# 初始化策略、价值函数等参数\n",
        "num_states = env.observation_space.n\n",
        "num_actions = env.action_space.n\n",
        "gamma = 0.9  # 折扣因子\n",
        "theta = 1e-8  # 收敛阈值\n",
        "policy = np.ones([num_states, num_actions]) / num_actions  # 初始随机策略\n",
        "\n",
        "# 策略评估函数\n",
        "def policy_evaluation(policy, env, gamma, theta):\n",
        "    num_states = env.observation_space.n\n",
        "    num_actions = env.action_space.n\n",
        "    V = np.zeros(num_states)  # 初始化价值函数\n",
        "    while True:\n",
        "        delta = 0\n",
        "        for state in range(num_states):\n",
        "            v = 0\n",
        "            for action in range(num_actions):\n",
        "                prob = policy[state][action]\n",
        "                for next_sr in env.env.P[state][action]:\n",
        "                    next_prob, next_state, reward, done = next_sr\n",
        "                    v += prob * next_prob * (reward + gamma * V[next_state])\n",
        "            delta = max(delta, abs(v - V[state]))\n",
        "            V[state] = v\n",
        "        if delta < theta:\n",
        "            break\n",
        "    return V\n",
        "\n",
        "# 策略改进函数\n",
        "def policy_improvement(policy, V, env, gamma):\n",
        "    num_states = env.observation_space.n\n",
        "    num_actions = env.action_space.n\n",
        "    policy_stable = True\n",
        "    for state in range(num_states):\n",
        "        old_action = np.argmax(policy[state])\n",
        "        action_values = np.zeros(num_actions)\n",
        "        for action in range(num_actions):\n",
        "            for next_sr in env.env.P[state][action]:\n",
        "                prob, next_state, reward, done = next_sr\n",
        "                action_values[action] += prob * (reward + gamma * V[next_state])\n",
        "        best_action = np.argmax(action_values)\n",
        "        policy[state] = np.eye(num_actions)[best_action]\n",
        "        if old_action != best_action:\n",
        "            policy_stable = False\n",
        "    return policy, policy_stable\n",
        "\n",
        "# 策略迭代算法\n",
        "def policy_iteration(env, gamma, theta):\n",
        "    policy = np.ones([env.observation_space.n, env.action_space.n]) / env.action_space.n  # 初始化策略\n",
        "    while True:\n",
        "        V = policy_evaluation(policy, env, gamma, theta)  # 策略评估\n",
        "        policy, policy_stable = policy_improvement(policy, V, env, gamma)  # 策略改进\n",
        "        if policy_stable:\n",
        "            break\n",
        "    return policy, V\n",
        "\n",
        "# 执行策略迭代算法\n",
        "final_policy, final_value = policy_iteration(env, gamma, theta)\n",
        "\n",
        "# 打印策略和价值函数\n",
        "print(\"最终策略：\")\n",
        "print(final_policy)\n",
        "print(\"\\n最终价值函数：\")\n",
        "print(final_value)\n"
      ],
      "metadata": {
        "colab": {
          "base_uri": "https://localhost:8080/"
        },
        "id": "4peWrJsi3cVG",
        "outputId": "cac8e431-4131-4af2-e53d-5594a3d6bd32"
      },
      "execution_count": 40,
      "outputs": [
        {
          "output_type": "stream",
          "name": "stdout",
          "text": [
            "最终策略：\n",
            "[[0. 0. 0. 0. 1. 0.]\n",
            " [0. 0. 0. 0. 1. 0.]\n",
            " [0. 0. 0. 0. 1. 0.]\n",
            " ...\n",
            " [0. 1. 0. 0. 0. 0.]\n",
            " [0. 1. 0. 0. 0. 0.]\n",
            " [0. 0. 0. 1. 0. 0.]]\n",
            "\n",
            "最终价值函数：\n",
            "[ 89.47368419  32.82015928  55.26468418  37.57795475   8.43267449\n",
            "  32.82015928   8.43267448  15.28487583  32.82015929  18.0943065\n",
            "  55.26468418  21.2158961   12.75638827  18.0943065   12.75638826\n",
            "  37.57795475 100.52631577  37.57795476  62.51631576  42.86439418\n",
            "  79.52631577  28.53814335  48.73821576  32.82015928  10.48074944\n",
            "  37.57795476  10.48074943  18.09430649  28.53814336  15.28487585\n",
            "  48.73821576  18.09430649  15.28487586  21.21589611  15.28487585\n",
            "  42.86439418  89.4736842   42.86439419  55.26468419  48.73821576\n",
            "  42.8643942   12.75638826  24.68432902  15.28487584  24.68432903\n",
            "  70.57368419  24.68432902  37.57795476  24.68432903  12.75638826\n",
            "  42.86439419  15.28487584  18.09430651  24.68432902  18.0943065\n",
            "  48.73821576  48.73821578  79.52631577  48.73821577  55.26468418\n",
            "  37.57795478  10.48074944  21.21589612  12.75638826  28.53814337\n",
            "  79.52631577  28.53814336  42.86439418  21.21589612  10.48074944\n",
            "  37.57795477  12.75638826  21.21589612  28.53814336  21.21589612\n",
            "  55.26468418  42.8643942   89.47368419  42.86439419  62.51631576\n",
            "  32.8201593    8.43267449  18.09430651  10.48074943  32.8201593\n",
            "  89.47368419  32.82015929  48.73821576  18.09430651   8.43267449\n",
            "  32.82015929  10.48074943  18.09430651  24.68432902  18.09430651\n",
            "  48.73821576  37.57795478 100.52631577  37.57795477  55.26468419\n",
            "  79.52631577  28.53814335  48.73821576  32.82015928  10.48074944\n",
            "  37.57795476  10.48074943  18.09430649  37.57795477  21.21589611\n",
            "  62.51631576  24.68432901  15.28487586  21.21589611  15.28487585\n",
            "  42.86439418  89.4736842   42.86439419  70.57368419  48.73821576\n",
            "  70.5736842   24.68432902  42.86439419  28.53814335  12.75638827\n",
            "  42.86439419  12.75638826  21.21589611  32.8201593   18.0943065\n",
            "  55.26468419  21.21589611  18.09430651  24.68432902  18.0943065\n",
            "  48.73821576  79.52631578  48.73821577  62.51631577  55.26468418\n",
            "  48.73821578  15.28487585  28.53814336  18.0943065   21.21589612\n",
            "  62.51631577  21.21589612  32.82015928  28.53814337  15.28487585\n",
            "  48.73821577  18.0943065   21.21589612  28.53814336  21.21589612\n",
            "  55.26468418  55.2646842   70.57368419  55.26468419  62.51631576\n",
            "  42.8643942   12.75638827  24.68432902  15.28487585  24.68432903\n",
            "  70.57368419  24.68432902  37.57795476  24.68432903  12.75638827\n",
            "  42.86439419  15.28487585  24.68432903  32.82015929  24.68432902\n",
            "  62.51631576  48.73821578  79.52631577  48.73821577  70.57368419\n",
            "  37.57795478  10.48074944  21.21589612  12.75638826  28.53814337\n",
            "  79.52631577  28.53814336  42.86439419  21.21589613  10.48074944\n",
            "  37.57795477  12.75638826  21.21589613  28.53814336  21.21589612\n",
            "  55.26468419  42.8643942   89.4736842   42.8643942   62.51631577\n",
            "  70.5736842   24.68432902  42.86439419  28.53814335  12.75638827\n",
            "  42.86439419  12.75638826  21.21589611  42.8643942   24.68432902\n",
            "  70.57368419  28.53814335  18.09430651  24.68432902  18.0943065\n",
            "  48.73821576  79.52631578  48.73821577  79.52631577  55.26468418\n",
            "  62.51631578  21.21589612  37.57795477  24.68432901  15.28487586\n",
            "  48.73821577  15.28487585  24.68432901  37.57795478  21.21589612\n",
            "  62.51631577  24.68432901  21.21589612  28.53814336  21.21589612\n",
            "  55.26468418  70.5736842   55.26468419  70.57368419  62.51631576\n",
            "  55.2646842   18.09430651  32.82015929  21.21589611  18.09430651\n",
            "  55.26468419  18.09430651  28.53814335  32.8201593   18.09430651\n",
            "  55.26468419  21.21589611  24.68432903  32.82015929  24.68432902\n",
            "  62.51631576  62.51631578  62.51631577  62.51631577  70.57368419\n",
            "  48.73821578  15.28487586  28.53814336  18.0943065   21.21589613\n",
            "  62.51631577  21.21589612  32.82015929  28.53814337  15.28487586\n",
            "  48.73821577  18.0943065   28.53814337  37.57795477  28.53814336\n",
            "  70.57368419  55.2646842   70.5736842   55.2646842   79.52631577\n",
            "  42.8643942   12.75638827  24.68432903  15.28487585  24.68432903\n",
            "  70.5736842   24.68432903  37.57795477  24.68432903  12.75638827\n",
            "  42.8643942   15.28487585  24.68432903  32.8201593   24.68432903\n",
            "  62.51631577  48.73821578  79.52631578  48.73821578  70.57368419\n",
            "  62.51631578  21.21589612  37.57795477  24.68432901  10.48074944\n",
            "  37.57795477  10.48074944  18.0943065   48.73821578  28.53814336\n",
            "  79.52631577  32.82015928  15.28487586  21.21589612  15.28487585\n",
            "  42.86439418  70.5736842   42.86439419  89.47368419  48.73821576\n",
            "  55.2646842   18.09430651  32.82015929  21.21589611  12.75638827\n",
            "  42.86439419  12.75638827  21.21589611  32.8201593   18.09430651\n",
            "  55.26468419  21.21589611  18.09430651  24.68432902  18.09430651\n",
            "  48.73821576  62.51631578  48.73821577  62.51631577  55.26468419\n",
            "  48.73821578  15.28487586  28.53814336  18.0943065   15.28487586\n",
            "  48.73821577  15.28487586  24.68432902  28.53814337  15.28487586\n",
            "  48.73821577  18.0943065   21.21589613  28.53814336  21.21589612\n",
            "  55.26468419  55.2646842   55.2646842   55.2646842   62.51631577\n",
            "  42.8643942   12.75638827  24.68432903  15.28487585  18.09430651\n",
            "  55.2646842   18.09430651  28.53814336  24.68432903  12.75638827\n",
            "  42.8643942   15.28487585  32.8201593   42.8643942   32.8201593\n",
            "  79.52631577  48.73821578  62.51631578  48.73821578  89.47368419\n",
            "  37.57795478  10.48074944  21.21589612  12.75638827  21.21589613\n",
            "  62.51631578  21.21589612  32.82015929  21.21589613  10.48074944\n",
            "  37.57795478  12.75638827  28.53814337  37.57795478  28.53814337\n",
            "  70.57368419  42.8643942   70.5736842   42.8643942   79.52631577\n",
            "  55.2646842   18.09430651  32.82015929  21.21589611   8.4326745\n",
            "  32.82015929   8.43267449  15.28487585  55.2646842   32.82015929\n",
            "  89.47368419  37.57795476  12.75638827  18.09430651  12.75638827\n",
            "  37.57795476  62.51631578  37.57795477 100.52631577  42.86439419\n",
            "  48.73821578  15.28487586  28.53814336  18.0943065   10.48074945\n",
            "  37.57795477  10.48074944  18.0943065   28.53814337  15.28487586\n",
            "  48.73821577  18.0943065   15.28487586  21.21589612  15.28487586\n",
            "  42.86439419  55.2646842   42.8643942   55.2646842   48.73821577\n",
            "  42.8643942   12.75638827  24.68432903  15.28487585  12.75638827\n",
            "  42.8643942   12.75638827  21.21589612  24.68432903  12.75638827\n",
            "  42.8643942   15.28487585  18.09430651  24.68432903  18.09430651\n",
            "  48.73821577  48.73821578  48.73821578  48.73821578  55.26468419\n",
            "  37.57795478  10.48074944  21.21589612  12.75638827  15.28487586\n",
            "  48.73821578  15.28487586  24.68432902  21.21589613  10.48074944\n",
            "  37.57795478  12.75638827  37.57795478  48.73821578  37.57795478\n",
            "  89.47368419  42.8643942   55.2646842   42.8643942  100.52631577\n",
            "  32.8201593    8.4326745   18.09430651  10.48074944  18.09430652\n",
            "  55.2646842   18.09430651  28.53814336  18.09430652   8.4326745\n",
            "  32.8201593   10.48074944  32.8201593   42.8643942   32.8201593\n",
            "  79.52631577  37.57795478  62.51631578  37.57795478  89.4736842 ]\n"
          ]
        }
      ]
    },
    {
      "cell_type": "code",
      "source": [
        "# 测试策略效果的示例函数（可选）\n",
        "def test_policy(policy, env, num_episodes=100):\n",
        "    total_rewards = []\n",
        "    for episode in range(num_episodes):\n",
        "        state = env.reset()\n",
        "        total_reward = 0\n",
        "        done = False\n",
        "        while not done:\n",
        "            action = np.argmax(policy[state])\n",
        "            state, reward, done, info = env.step(action)\n",
        "            total_reward += reward\n",
        "        total_rewards.append(total_reward)\n",
        "    average_reward = np.mean(total_rewards)\n",
        "    return average_reward\n",
        "\n",
        "# 测试策略\n",
        "average_reward = test_policy(final_policy, env)\n",
        "print(f\"\\n测试策略的平均奖励：{average_reward}\")"
      ],
      "metadata": {
        "colab": {
          "base_uri": "https://localhost:8080/"
        },
        "id": "G9VeLhLx4Des",
        "outputId": "88a08e15-4c75-4786-b1da-f1aa3490439d"
      },
      "execution_count": 42,
      "outputs": [
        {
          "output_type": "stream",
          "name": "stdout",
          "text": [
            "\n",
            "测试策略的平均奖励：7.84\n"
          ]
        }
      ]
    }
  ]
}